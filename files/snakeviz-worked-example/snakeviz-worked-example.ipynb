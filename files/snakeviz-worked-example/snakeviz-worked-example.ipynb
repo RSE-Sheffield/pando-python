{
 "cells": [
  {
   "cell_type": "code",
   "execution_count": null,
   "id": "83b45371-9cd9-4a8f-b0ff-ceb1bfc2ecc2",
   "metadata": {},
   "outputs": [],
   "source": [
    "import time\n",
    "\n",
    "def a_1():\n",
    "    for i in range(3):\n",
    "        b_1()\n",
    "    time.sleep(1)\n",
    "    b_2()\n",
    "    \n",
    "def b_1():\n",
    "    c_1()\n",
    "    c_2()\n",
    "\n",
    "def b_2():\n",
    "    time.sleep(1)\n",
    "    \n",
    "def c_1():\n",
    "    time.sleep(0.5)\n",
    "\n",
    "def c_2():\n",
    "    time.sleep(0.3)\n",
    "    d_1()\n",
    "\n",
    "def d_1():\n",
    "    time.sleep(0.1)\n",
    "    "
   ]
  },
  {
   "cell_type": "code",
   "execution_count": null,
   "id": "0fc38195-3dc4-4a7c-82f6-1167f54d3182",
   "metadata": {},
   "outputs": [],
   "source": [
    "!pip install snakeviz"
   ]
  },
  {
   "cell_type": "code",
   "execution_count": null,
   "id": "c47affa0-23cc-43f8-a4f8-e73ab2f44afd",
   "metadata": {},
   "outputs": [],
   "source": [
    "%load_ext snakeviz"
   ]
  },
  {
   "cell_type": "code",
   "execution_count": null,
   "id": "58040218-8578-47fc-9a18-476f4b27d25a",
   "metadata": {},
   "outputs": [],
   "source": [
    "%snakeviz a_1()"
   ]
  }
 ],
 "metadata": {
  "kernelspec": {
   "display_name": "Python 3 (ipykernel)",
   "language": "python",
   "name": "python3"
  },
  "language_info": {
   "codemirror_mode": {
    "name": "ipython",
    "version": 3
   },
   "file_extension": ".py",
   "mimetype": "text/x-python",
   "name": "python",
   "nbconvert_exporter": "python",
   "pygments_lexer": "ipython3",
   "version": "3.10.12"
  }
 },
 "nbformat": 4,
 "nbformat_minor": 5
}
